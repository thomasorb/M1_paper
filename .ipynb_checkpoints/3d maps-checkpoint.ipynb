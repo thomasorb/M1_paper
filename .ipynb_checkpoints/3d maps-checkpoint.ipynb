{
 "cells": [
  {
   "cell_type": "code",
   "execution_count": 122,
   "metadata": {},
   "outputs": [],
   "source": [
    "import numpy as np\n",
    "import pyvista as pv\n",
    "from matplotlib.cm import get_cmap\n",
    "import astropy.io.fits as pyfits\n",
    "import matplotlib"
   ]
  },
  {
   "cell_type": "code",
   "execution_count": 123,
   "metadata": {},
   "outputs": [],
   "source": [
    "def norm(x, perc):\n",
    "    x = (x - np.nanpercentile(x, 100-perc)) / (np.nanpercentile(x, perc) - np.nanpercentile(x, 100-perc))\n",
    "    x[x < 0] = 0\n",
    "    x[x > 1] = 1\n",
    "    return x\n",
    "\n",
    "def show_cloud(p, path, perc):\n",
    "    _y, _z, _x, _scalar = pyfits.open(path)[0].data.T\n",
    "        \n",
    "    _scalar = norm(_scalar, perc)\n",
    "    \n",
    "    nonans = ~np.isnan(_scalar)  \n",
    "    _scalar = _scalar[nonans]\n",
    "    \n",
    "    cloud = np.array([_x[nonans], _y[nonans], _z[nonans]]).T\n",
    "    cloud = pv.PolyData(cloud)\n",
    "    \n",
    "    p.add_mesh(cloud, scalars=np.copy(_scalar), smooth_shading=False, opacity=.9)\n",
    "\n",
    "\n",
    "def add_image(p, path, perc=99, binning=10):\n",
    "    \"\"\"\n",
    "    :param pixsize: pizel size in arcsec\n",
    "    \"\"\"\n",
    "    D_M1 = 2e3 # pc\n",
    "    \n",
    "    \n",
    "    \n",
    "  \n",
    "    im = pyfits.open(path)[0]\n",
    "    wcs = pywcs.WCS(im)\n",
    "    xs, ys = pywcs.utils.proj_plane_pixel_scales(wcs)\n",
    "    pixsize = np.mean((xs, ys)) * 3600\n",
    "    scale = D_M1 * np.tan(np.deg2rad(1/3600.)) * pixsize # pc / pixel\n",
    "    print('computed image scale (arcsec/pixels)', pixsize)\n",
    "    yc, xc = wcs.all_world2pix((center_radec, ), 0)[0]\n",
    "    \n",
    "    print('computed center (pixels)', xc, yc)\n",
    "    im_data = im.data.T\n",
    "    print('image shape (pixels)', im_data.shape)\n",
    "    \n",
    "    im_data = norm(im_data[::binning,::binning], perc)\n",
    " \n",
    "    \n",
    "    # create a structured surface\n",
    "    x = (np.arange(im_data.shape[0], dtype=float) - xc/binning) * scale * binning\n",
    "    y = (np.arange(im_data.shape[1], dtype=float) - yc/binning) * scale * binning\n",
    "    x, y = np.meshgrid(y, x)\n",
    "    z = np.zeros_like(x)\n",
    "    \n",
    "    plane = pv.StructuredGrid(z, y, x)\n",
    "    \n",
    "    p.add_mesh(plane, scalars=im_data.T.flatten())"
   ]
  },
  {
   "cell_type": "code",
   "execution_count": 124,
   "metadata": {},
   "outputs": [
    {
     "name": "stdout",
     "output_type": "stream",
     "text": [
      "computed image scale (arcsec/pixels) 0.3203488372093011\n",
      "computed center (pixels) 1076.9893810371195 1039.0079482857989\n",
      "image shape (pixels) (2048, 2064)\n"
     ]
    },
    {
     "data": {
      "application/vnd.jupyter.widget-view+json": {
       "model_id": "619376d4c3494013b87583ef1c0d6a3a",
       "version_major": 2,
       "version_minor": 0
      },
      "text/plain": [
       "Viewer(geometries=[{'vtkClass': 'vtkPolyData', 'points': {'vtkClass': 'vtkPoints', 'name': '_points', 'numberO…"
      ]
     },
     "metadata": {},
     "output_type": "display_data"
    }
   ],
   "source": [
    "p = pv.PlotterITK()\n",
    "\n",
    "#show_cloud(p, '3dmap_XYZvel.fits', 99)\n",
    "show_cloud(p, '3dmap_XYZflux.fits', 90)\n",
    "\n",
    "add_image(p, 'm1.deep_frame.fits')\n",
    "p.show(True)\n"
   ]
  }
 ],
 "metadata": {
  "kernelspec": {
   "display_name": "Python 3",
   "language": "python",
   "name": "python3"
  },
  "language_info": {
   "codemirror_mode": {
    "name": "ipython",
    "version": 3
   },
   "file_extension": ".py",
   "mimetype": "text/x-python",
   "name": "python",
   "nbconvert_exporter": "python",
   "pygments_lexer": "ipython3",
   "version": "3.7.4"
  }
 },
 "nbformat": 4,
 "nbformat_minor": 4
}
