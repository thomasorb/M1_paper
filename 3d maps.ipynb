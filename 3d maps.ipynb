{
 "cells": [
  {
   "cell_type": "code",
   "execution_count": 9,
   "metadata": {},
   "outputs": [],
   "source": [
    "import astropy.io.fits as pyfits\n",
    "import k3d\n",
    "import numpy as np\n",
    "import matplotlib.cm\n",
    "import time\n",
    "import pylab as pl"
   ]
  },
  {
   "cell_type": "code",
   "execution_count": 15,
   "metadata": {},
   "outputs": [],
   "source": [
    "# decide which map you want to load\n",
    "\n",
    "#maps = pyfits.open('3dmap_XYZvel.fits')[0].data ; PERC = 0 ; cmap = matplotlib.cm.Spectral_r ; imtype = 'vel'\n",
    "#maps = pyfits.open('3dmap_XYZflux.fits')[0].data ; PERC = 10 ; cmap = matplotlib.cm.viridis ; imtype = 'flux'\n",
    "#maps = pyfits.open('3dmap_XYZnii_ha.fits')[0].data ; PERC = 10 ; cmap = matplotlib.cm.viridis ; imtype = 'nii_ha'\n",
    "#maps = pyfits.open('3dmap_XYZsii_ha.fits')[0].data ; PERC = 10 ; cmap = matplotlib.cm.viridis ; imtype = 'sii_ha'\n",
    "maps = pyfits.open('3dmap_XYZsii_sii.fits')[0].data ; PERC = 6 ; cmap = matplotlib.cm.viridis ; imtype = 'sii_sii'\n"
   ]
  },
  {
   "cell_type": "code",
   "execution_count": 17,
   "metadata": {},
   "outputs": [
    {
     "data": {
      "application/vnd.jupyter.widget-view+json": {
       "model_id": "934d2db58c7a434c967ba8222251c2cf",
       "version_major": 2,
       "version_minor": 0
      },
      "text/plain": [
       "Output()"
      ]
     },
     "metadata": {},
     "output_type": "display_data"
    }
   ],
   "source": [
    "# display data\n",
    "filtermaps = pyfits.open('3dmap_XYZflux.fits')[0].data[:,3] \n",
    "\n",
    "positions = maps[:,:3]\n",
    "colors = maps[:,3]\n",
    "if imtype != 'sii_sii':\n",
    "    colors[np.nonzero(filtermaps < np.nanpercentile(filtermaps, 10))] = np.nan\n",
    "cbar_min, cbar_max = np.nanpercentile(colors, [PERC, 100-PERC])\n",
    "\n",
    "colors -= np.nanpercentile(colors, PERC)\n",
    "colors /= np.nanpercentile(colors, 100-PERC)\n",
    "\n",
    "colors[colors < 0] = 0\n",
    "colors[colors > 1] = 1\n",
    "\n",
    "positions = positions[~np.isnan(colors)]\n",
    "colors = colors[~np.isnan(colors)]\n",
    "\n",
    "rgbacolors = (cmap(colors) * 255).astype(np.uint32)\n",
    "intcolors = rgbacolors[:,0]\n",
    "intcolors = rgbacolors[:,0] << 16 | rgbacolors[:,1] << 8 | rgbacolors[:,2]\n",
    "\n",
    "RADIUS = 4\n",
    "FOV = 50\n",
    "PREFIX = ''\n",
    "\n",
    "def rotate_camera(plot, angle, image_number):\n",
    "    radius = RADIUS # 4\n",
    "    z = np.cos(np.deg2rad(angle)) * radius\n",
    "    x = np.sin(np.deg2rad(angle)) * radius\n",
    "    plot.grid = [-1, -1, -1, 1, 1, 1]\n",
    "    # camera [posx,posy,posz,targetx,targety,targetz,upx,upy,upz]\n",
    "    plot.camera = [x,0,z,0,0,0,0,1,0]\n",
    "    plot.camera_fov = FOV # 50\n",
    "    \n",
    "plot = k3d.plot(height=800)\n",
    "plot.camera_auto_fit = False\n",
    "plot.grid_auto_fit = True\n",
    "\n",
    "points = k3d.points(positions.astype(np.float32), colors=intcolors, point_size=1.5, shader='dot', opacity=1., legend=True, )\n",
    "plot += points\n",
    "plot.display()\n",
    "plot.camera = [0,0,2.8,0,0,0,0,0,0]\n",
    "angle = 0\n",
    "image_number = 0\n",
    "    \n",
    "rotate_camera(plot, angle, image_number)\n"
   ]
  },
  {
   "cell_type": "code",
   "execution_count": null,
   "metadata": {},
   "outputs": [],
   "source": []
  }
 ],
 "metadata": {
  "kernelspec": {
   "display_name": "Python 3",
   "language": "python",
   "name": "python3"
  },
  "language_info": {
   "codemirror_mode": {
    "name": "ipython",
    "version": 3
   },
   "file_extension": ".py",
   "mimetype": "text/x-python",
   "name": "python",
   "nbconvert_exporter": "python",
   "pygments_lexer": "ipython3",
   "version": "3.7.4"
  }
 },
 "nbformat": 4,
 "nbformat_minor": 2
}
